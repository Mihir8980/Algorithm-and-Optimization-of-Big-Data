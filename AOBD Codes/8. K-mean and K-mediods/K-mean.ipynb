{
 "cells": [
  {
   "cell_type": "code",
   "execution_count": 8,
   "metadata": {},
   "outputs": [],
   "source": [
    "# Importing Required libraries\n",
    "import numpy as np # numpy for array manipulation\n",
    "import random as rd # random to generete random numbers\n",
    "from sklearn.datasets import load_iris # load_iris to load iris dataset"
   ]
  },
  {
   "cell_type": "code",
   "execution_count": 9,
   "metadata": {},
   "outputs": [],
   "source": [
    "X,y = load_iris(return_X_y=True) # Loading boston dataset"
   ]
  },
  {
   "cell_type": "code",
   "execution_count": 10,
   "metadata": {},
   "outputs": [],
   "source": [
    "#Hyperparameter\n",
    "n_iter = 100 # Fix number of iteration\n",
    "K = 3 # No. of clusters we want to create"
   ]
  },
  {
   "cell_type": "code",
   "execution_count": 11,
   "metadata": {},
   "outputs": [],
   "source": [
    "m = X.shape[0] # No. of training Examples\n",
    "n = X.shape[1] #No. of Features Examples"
   ]
  },
  {
   "cell_type": "code",
   "execution_count": 12,
   "metadata": {},
   "outputs": [],
   "source": [
    "Centroids=np.array([]).reshape(n,0) # Initiallizing centriod for each feature"
   ]
  },
  {
   "cell_type": "code",
   "execution_count": 13,
   "metadata": {},
   "outputs": [
    {
     "data": {
      "text/plain": [
       "array([[7. , 5. , 6.1],\n",
       "       [3.2, 2.3, 3. ],\n",
       "       [4.7, 3.3, 4.6],\n",
       "       [1.4, 1. , 1.4]])"
      ]
     },
     "execution_count": 13,
     "metadata": {},
     "output_type": "execute_result"
    }
   ],
   "source": [
    "for i in range(K): # Logic for selecting centroid randomly intitally\n",
    "    rand = rd.randint(0,m-1) # Any random number between 0 to m-1\n",
    "    Centroids = np.c_[Centroids,X[rand]] # Adding odd centriod as a column in the new one\n",
    "Centroids # Since we have 4 feature so our centriod is 4xk"
   ]
  },
  {
   "cell_type": "code",
   "execution_count": 14,
   "metadata": {},
   "outputs": [],
   "source": [
    "output={} # Output dictionary\n",
    "EuDis = np.array([]).reshape(m,0) # Initiallizing array for euclidean distance"
   ]
  },
  {
   "cell_type": "code",
   "execution_count": 31,
   "metadata": {},
   "outputs": [],
   "source": [
    "# In euclidean distance i am not using square root because effect remains the same in both the cases \n",
    "for k1 in range(K): \n",
    "    tempDist = np.sum((X-Centroids[:,k1])**2,axis=1) # Step by step using centriod and calculating difference sqaure for each example\n",
    "    EuDis = np.c_[EuDis,tempDist] # Appending new column of distances in the calculated euclidean of the old one \n",
    "C = np.argmin(EuDis,axis=1)+1 # Creating a index list which depicts which data sample belongs to which data sample"
   ]
  },
  {
   "cell_type": "code",
   "execution_count": 46,
   "metadata": {},
   "outputs": [
    {
     "data": {
      "text/plain": [
       "array([5.9, 3. , 5.1, 1.8])"
      ]
     },
     "execution_count": 46,
     "metadata": {},
     "output_type": "execute_result"
    }
   ],
   "source": [
    "Y ={} # Initiallizing a output dictionary which is in the form of {centriod1 : all member corresponding to that cluster)\n",
    "for k in range(K): # Creating four array as a value in the dictionary \n",
    "    Y[k+1] = np.array([]).reshape(4,0)\n",
    "for i in range(m): # Appending all examples as per their corresponding centroids\n",
    "    Y[C[i]]=np.c_[Y[C[i]],X[i]] \n",
    "for k in range(K): # Transposing the Y\n",
    "    Y[k+1] = Y[k+1].T\n",
    "for k in range(K): # Calculating new centriod which is mean of all member present inside that cluster\n",
    "    Centroids[:,k] = np.mean(Y[k+1],axis=0)"
   ]
  },
  {
   "cell_type": "code",
   "execution_count": 103,
   "metadata": {},
   "outputs": [],
   "source": [
    "# Repeat above explained process for n_iter number of times.\n",
    "for f in range(n_iter):\n",
    "    EuDis = np.array([]).reshape(m,0)\n",
    "    for k1 in range(K):\n",
    "        tempDist = np.sum((X-Centroids[:,k1])**2,axis=1)\n",
    "        EuDis = np.c_[EuDis,tempDist]\n",
    "    C = np.argmin(EuDis,axis=1)+1\n",
    "    Y ={}\n",
    "    for k in range(K):\n",
    "        Y[k+1] = np.array([]).reshape(4,0)\n",
    "    for i in range(m):\n",
    "        Y[C[i]]=np.c_[Y[C[i]],X[i]] \n",
    "    for k in range(K):\n",
    "        Y[k+1] = Y[k+1].T\n",
    "    for k in range(K):\n",
    "        Centroids[:,k] = np.mean(Y[k+1],axis=0)\n",
    "    Output=Y"
   ]
  },
  {
   "cell_type": "code",
   "execution_count": 115,
   "metadata": {},
   "outputs": [
    {
     "data": {
      "image/png": "[encoded data removed]",
      "text/plain": [
       "<Figure size 432x288 with 1 Axes>"
      ]
     },
     "metadata": {
      "needs_background": "light"
     },
     "output_type": "display_data"
    }
   ],
   "source": [
    "# ploting the Final Centriods and data samples To visualize in 2D i have plotted along first two feautre.\n",
    "import matplotlib.pyplot as plt\n",
    "color=['red','blue','green']\n",
    "labels=['cluster1','cluster2','cluster3']\n",
    "for k in range(K):\n",
    "    plt.scatter(Output[k+1][:,0],Output[k+1][:,1],c=color[k],label=labels[k])\n",
    "plt.scatter(Centroids[0,:],Centroids[1,:],s=300,c='yellow',label='Centroids')\n",
    "plt.xlabel('Feature-1')\n",
    "plt.ylabel('Feature-2')\n",
    "plt.legend()\n",
    "plt.show()"
   ]
  }
 ],
 "metadata": {
  "kernelspec": {
   "display_name": "Python 3",
   "language": "python",
   "name": "python3"
  },
  "language_info": {
   "codemirror_mode": {
    "name": "ipython",
    "version": 3
   },
   "file_extension": ".py",
   "mimetype": "text/x-python",
   "name": "python",
   "nbconvert_exporter": "python",
   "pygments_lexer": "ipython3",
   "version": "3.7.4"
  }
 },
 "nbformat": 4,
 "nbformat_minor": 2
}
